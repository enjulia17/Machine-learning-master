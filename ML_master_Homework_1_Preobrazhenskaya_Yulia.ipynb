{
 "cells": [
  {
   "cell_type": "markdown",
   "id": "702854fd",
   "metadata": {},
   "source": [
    "# Mushroom Dataset: задача классификации грибов на съедобные и несъедобные "
   ]
  },
  {
   "cell_type": "markdown",
   "id": "e7ceffcd",
   "metadata": {},
   "source": [
    "## Домашнее задание №1"
   ]
  },
  {
   "cell_type": "markdown",
   "id": "0a616c6b",
   "metadata": {},
   "source": [
    "### 0. Словесное описание задачи\n",
    "\n",
    "Данный датасет включает описания 8124 гипотетических образцов, соответствующих 23 видам грибов, взятые из \"Полевого справочника по грибам Северной Америки\" (The Audubon Society Field Guide to North American Mushrooms, 1981). Задача заключается в разделении грибов на два класса - съедобные и несъедобные - на основании 22 характеристик (категориальных признаков), представленных ниже:\n",
    "</br>\n",
    "- cap-shape (форма шляпки): bell=b (колоколчатая), conical=c (коническая), convex=x (выпуклая), flat=f (плоская), knobbed=k (бугристая), sunken=s (впалая)\n",
    "<br>\n",
    "- cap-surface (поверхность шляпки): fibrous=f (волокнистая), grooves=g (с выемками), scaly=y (чешуйчатая), smooth=s (гладкая) \n",
    "<br>\n",
    "- cap-color (цвет шляпки): brown=n (коричневый), buff=b (желтовато-коричневый), cinnamon=c (светло-коричневый), gray=g (серый), green=r (зеленый), pink=p (розовый), purple=u (фиолетовый), red=e (красный), white=w (белый), yellow=y (желтый) \n",
    "<br>\n",
    "- bruises (синяки): bruises=t (есть), no=f (нет) \n",
    "<br>\n",
    "- odor (запах): almond=a (миндальный), anise=l (анисовый), creosote=c (креозотовый), fishy=y (рыбный), foul=f (неприятный, противный), musty=m (затхлый), none=n (никакой), pungent=p (резкий, едкий), spicy=s (острый, пряный) \n",
    "<br>\n",
    "- gill-attachment (форма ламеллы): attached=a (прикрепленная), descending=d (нисходящая), free=f (свободная), notched=n (зубчатая) \n",
    "<br>\n",
    "- gill-spacing (расположение ламеллы): close=c (близкое), crowded=w (плотное, тесное), distant=d (далекое) \n",
    "<br>\n",
    "- gill-size (размер ламеллы): broad=b (широкий), narrow=n (узкий) \n",
    "<br>\n",
    "- gill-color (цвет ламмелы): black=k (черный), brown=n (коричневый), buff=b (желтовато-коричневый), chocolate=h (шоколадный), gray=g (серый), green=r (зеленый), orange=o (оранжевый), pink=p (розовый), purple=u (фиолетовый), red=e (красный), white=w (белый), yellow=y (желтый) \n",
    "<br>\n",
    "- stalk-shape (форма стебля): enlarging=e (расширяющаяся), tapering=t (сужающаяся) \n",
    "<br>\n",
    "- stalk-root (корень стебля): bulbous=b (луковичный), club=c (клубчатый), cup=u (чашевидный), equal=e (равный), rhizomorphs=z (ризоморфный), rooted=r (укореняющийся), missing=? (отсутствует) \n",
    "<br>\n",
    "- stalk-surface-above-ring (поверхность стебля выше кольца): fibrous=f (волокнистая), scaly=y (чешуйчатая), silky=k (шелковистая), smooth=s (гладкая) \n",
    "<br>\n",
    "- stalk-surface-below-ring (поверхность стебля ниже кольца): fibrous=f (волокнистая), scaly=y (чешуйчатая), silky=k (шелковистая), smooth=s (гладкая) \n",
    "<br>\n",
    "- stalk-color-above-ring (цвет стебля выше кольца): brown=n (коричневый), buff=b (желтовато-коричневый), cinnamon=c (светло-коричневый), gray=g (серый), orange=o (оранжевый), pink=p (розовый), red=e (красный), white=w (белый), yellow=y (желтый) \n",
    "<br>\n",
    "- stalk-color-below-ring (цвет стебля ниже кольца): brown=n (коричневый), buff=b (желтовато-коричневый), cinnamon=c (светло-коричневый), gray=g (серый), orange=o (оранжевый), pink=p (розовый), red=e (красный), white=w (белый), yellow=y (желтый)\n",
    "<br>\n",
    "- veil-type (тип вуали): partial=p (частичная), universal=u (полная) \n",
    "<br>\n",
    "- veil-color (цвет вуали): brown=n (коричневая), orange=o (оранжевая), white=w (белая), yellow=y (желтая) \n",
    "<br>\n",
    "- ring-number (количество колец): none=n (ни одного), one=o (одно), two=t (два) \n",
    "<br>\n",
    "- ring-type (тип кольца): cobwebby=c (паутинистое), evanescent=e (еле заметное), flaring=f (расширяющееся книзу), large=l (большое), none=n (никакое), pendant=p (кулонообразное), sheathing=s (обволакивающее), zone=z (зональное) \n",
    "<br>\n",
    "- spore-print-color (цвет спор): black=k (черный), brown=n (коричневый), buff=b (желтовато-коричневый), chocolate=h (шоколадный), green=r (зеленый), orange=o (оранжевый), purple=u (фиолетовый), white=w (белый), yellow=y (желтый)\n",
    "<br>\n",
    "- population (тип популяции): abundant=a (обильная), clustered=c (скоплениями), numerous=n (многочисленная), scattered=s (рассеянная), several=v (несколько), solitary=y (одиночная)\n",
    "<br>\n",
    "- habitat (среда обитания): grasses=g (трава), leaves=l (листья), meadows=m (луга), paths=p (дороги, тропинки), urban=u (город), waste=w (отходы), woods=d (леса)\n"
   ]
  },
  {
   "cell_type": "markdown",
   "id": "3977f9bb",
   "metadata": {},
   "source": [
    "### Импортирование необходимых библиотек"
   ]
  },
  {
   "cell_type": "code",
   "execution_count": 99,
   "id": "32db9e54",
   "metadata": {},
   "outputs": [],
   "source": [
    "import time\n",
    "import numpy as np\n",
    "import pandas as pd\n",
    "import seaborn as sns\n",
    "import sklearn\n",
    "import matplotlib.pyplot as plt\n",
    "from sklearn.datasets import fetch_openml\n",
    "from sklearn.metrics import plot_confusion_matrix\n",
    "%matplotlib inline"
   ]
  },
  {
   "cell_type": "markdown",
   "id": "4cdc65c0",
   "metadata": {},
   "source": [
    "### 1. Чтение данных"
   ]
  },
  {
   "cell_type": "code",
   "execution_count": 2,
   "id": "f3b4eeaa",
   "metadata": {},
   "outputs": [],
   "source": [
    "mushroom_dataset = fetch_openml(name='mushroom', version=1)"
   ]
  },
  {
   "cell_type": "code",
   "execution_count": 3,
   "id": "9b05d2a1",
   "metadata": {},
   "outputs": [
    {
     "data": {
      "text/plain": [
       "(8124, 22)"
      ]
     },
     "execution_count": 3,
     "metadata": {},
     "output_type": "execute_result"
    }
   ],
   "source": [
    "# Посмотрим на размеры таблицы - количество строк (каждая строка соответствует одному грибу) и количество столбцов (каждый столбец соответствует конкретному признаку)\n",
    "mushroom_dataset.data.shape"
   ]
  },
  {
   "cell_type": "code",
   "execution_count": 4,
   "id": "b1e0dd32",
   "metadata": {},
   "outputs": [
    {
     "name": "stdout",
     "output_type": "stream",
     "text": [
      "     cap-shape cap-surface cap-color bruises%3F odor gill-attachment  \\\n",
      "0            x           s         n          t    p               f   \n",
      "1            x           s         y          t    a               f   \n",
      "2            b           s         w          t    l               f   \n",
      "3            x           y         w          t    p               f   \n",
      "4            x           s         g          f    n               f   \n",
      "...        ...         ...       ...        ...  ...             ...   \n",
      "8119         k           s         n          f    n               a   \n",
      "8120         x           s         n          f    n               a   \n",
      "8121         f           s         n          f    n               a   \n",
      "8122         k           y         n          f    y               f   \n",
      "8123         x           s         n          f    n               a   \n",
      "\n",
      "     gill-spacing gill-size gill-color stalk-shape  ...  \\\n",
      "0               c         n          k           e  ...   \n",
      "1               c         b          k           e  ...   \n",
      "2               c         b          n           e  ...   \n",
      "3               c         n          n           e  ...   \n",
      "4               w         b          k           t  ...   \n",
      "...           ...       ...        ...         ...  ...   \n",
      "8119            c         b          y           e  ...   \n",
      "8120            c         b          y           e  ...   \n",
      "8121            c         b          n           e  ...   \n",
      "8122            c         n          b           t  ...   \n",
      "8123            c         b          y           e  ...   \n",
      "\n",
      "     stalk-color-above-ring stalk-color-below-ring veil-type veil-color  \\\n",
      "0                         w                      w         p          w   \n",
      "1                         w                      w         p          w   \n",
      "2                         w                      w         p          w   \n",
      "3                         w                      w         p          w   \n",
      "4                         w                      w         p          w   \n",
      "...                     ...                    ...       ...        ...   \n",
      "8119                      o                      o         p          o   \n",
      "8120                      o                      o         p          n   \n",
      "8121                      o                      o         p          o   \n",
      "8122                      w                      w         p          w   \n",
      "8123                      o                      o         p          o   \n",
      "\n",
      "     ring-number ring-type spore-print-color population habitat class  \n",
      "0              o         p                 k          s       u     p  \n",
      "1              o         p                 n          n       g     e  \n",
      "2              o         p                 n          n       m     e  \n",
      "3              o         p                 k          s       u     p  \n",
      "4              o         e                 n          a       g     e  \n",
      "...          ...       ...               ...        ...     ...   ...  \n",
      "8119           o         p                 b          c       l     e  \n",
      "8120           o         p                 b          v       l     e  \n",
      "8121           o         p                 b          c       l     e  \n",
      "8122           o         e                 w          v       l     p  \n",
      "8123           o         p                 o          c       l     e  \n",
      "\n",
      "[8124 rows x 23 columns]\n"
     ]
    }
   ],
   "source": [
    "# Выведем содержимое датасета \n",
    "mushroom_dataset = mushroom_dataset.frame\n",
    "print(mushroom_dataset) "
   ]
  },
  {
   "cell_type": "code",
   "execution_count": 5,
   "id": "5be6bdd8",
   "metadata": {},
   "outputs": [
    {
     "data": {
      "text/html": [
       "<div>\n",
       "<style scoped>\n",
       "    .dataframe tbody tr th:only-of-type {\n",
       "        vertical-align: middle;\n",
       "    }\n",
       "\n",
       "    .dataframe tbody tr th {\n",
       "        vertical-align: top;\n",
       "    }\n",
       "\n",
       "    .dataframe thead th {\n",
       "        text-align: right;\n",
       "    }\n",
       "</style>\n",
       "<table border=\"1\" class=\"dataframe\">\n",
       "  <thead>\n",
       "    <tr style=\"text-align: right;\">\n",
       "      <th></th>\n",
       "      <th>cap-shape</th>\n",
       "      <th>cap-surface</th>\n",
       "      <th>cap-color</th>\n",
       "      <th>bruises%3F</th>\n",
       "      <th>odor</th>\n",
       "      <th>gill-attachment</th>\n",
       "      <th>gill-spacing</th>\n",
       "      <th>gill-size</th>\n",
       "      <th>gill-color</th>\n",
       "      <th>stalk-shape</th>\n",
       "      <th>...</th>\n",
       "      <th>stalk-color-above-ring</th>\n",
       "      <th>stalk-color-below-ring</th>\n",
       "      <th>veil-type</th>\n",
       "      <th>veil-color</th>\n",
       "      <th>ring-number</th>\n",
       "      <th>ring-type</th>\n",
       "      <th>spore-print-color</th>\n",
       "      <th>population</th>\n",
       "      <th>habitat</th>\n",
       "      <th>class</th>\n",
       "    </tr>\n",
       "  </thead>\n",
       "  <tbody>\n",
       "    <tr>\n",
       "      <th>0</th>\n",
       "      <td>x</td>\n",
       "      <td>s</td>\n",
       "      <td>n</td>\n",
       "      <td>t</td>\n",
       "      <td>p</td>\n",
       "      <td>f</td>\n",
       "      <td>c</td>\n",
       "      <td>n</td>\n",
       "      <td>k</td>\n",
       "      <td>e</td>\n",
       "      <td>...</td>\n",
       "      <td>w</td>\n",
       "      <td>w</td>\n",
       "      <td>p</td>\n",
       "      <td>w</td>\n",
       "      <td>o</td>\n",
       "      <td>p</td>\n",
       "      <td>k</td>\n",
       "      <td>s</td>\n",
       "      <td>u</td>\n",
       "      <td>p</td>\n",
       "    </tr>\n",
       "    <tr>\n",
       "      <th>1</th>\n",
       "      <td>x</td>\n",
       "      <td>s</td>\n",
       "      <td>y</td>\n",
       "      <td>t</td>\n",
       "      <td>a</td>\n",
       "      <td>f</td>\n",
       "      <td>c</td>\n",
       "      <td>b</td>\n",
       "      <td>k</td>\n",
       "      <td>e</td>\n",
       "      <td>...</td>\n",
       "      <td>w</td>\n",
       "      <td>w</td>\n",
       "      <td>p</td>\n",
       "      <td>w</td>\n",
       "      <td>o</td>\n",
       "      <td>p</td>\n",
       "      <td>n</td>\n",
       "      <td>n</td>\n",
       "      <td>g</td>\n",
       "      <td>e</td>\n",
       "    </tr>\n",
       "    <tr>\n",
       "      <th>2</th>\n",
       "      <td>b</td>\n",
       "      <td>s</td>\n",
       "      <td>w</td>\n",
       "      <td>t</td>\n",
       "      <td>l</td>\n",
       "      <td>f</td>\n",
       "      <td>c</td>\n",
       "      <td>b</td>\n",
       "      <td>n</td>\n",
       "      <td>e</td>\n",
       "      <td>...</td>\n",
       "      <td>w</td>\n",
       "      <td>w</td>\n",
       "      <td>p</td>\n",
       "      <td>w</td>\n",
       "      <td>o</td>\n",
       "      <td>p</td>\n",
       "      <td>n</td>\n",
       "      <td>n</td>\n",
       "      <td>m</td>\n",
       "      <td>e</td>\n",
       "    </tr>\n",
       "    <tr>\n",
       "      <th>3</th>\n",
       "      <td>x</td>\n",
       "      <td>y</td>\n",
       "      <td>w</td>\n",
       "      <td>t</td>\n",
       "      <td>p</td>\n",
       "      <td>f</td>\n",
       "      <td>c</td>\n",
       "      <td>n</td>\n",
       "      <td>n</td>\n",
       "      <td>e</td>\n",
       "      <td>...</td>\n",
       "      <td>w</td>\n",
       "      <td>w</td>\n",
       "      <td>p</td>\n",
       "      <td>w</td>\n",
       "      <td>o</td>\n",
       "      <td>p</td>\n",
       "      <td>k</td>\n",
       "      <td>s</td>\n",
       "      <td>u</td>\n",
       "      <td>p</td>\n",
       "    </tr>\n",
       "    <tr>\n",
       "      <th>4</th>\n",
       "      <td>x</td>\n",
       "      <td>s</td>\n",
       "      <td>g</td>\n",
       "      <td>f</td>\n",
       "      <td>n</td>\n",
       "      <td>f</td>\n",
       "      <td>w</td>\n",
       "      <td>b</td>\n",
       "      <td>k</td>\n",
       "      <td>t</td>\n",
       "      <td>...</td>\n",
       "      <td>w</td>\n",
       "      <td>w</td>\n",
       "      <td>p</td>\n",
       "      <td>w</td>\n",
       "      <td>o</td>\n",
       "      <td>e</td>\n",
       "      <td>n</td>\n",
       "      <td>a</td>\n",
       "      <td>g</td>\n",
       "      <td>e</td>\n",
       "    </tr>\n",
       "    <tr>\n",
       "      <th>5</th>\n",
       "      <td>x</td>\n",
       "      <td>y</td>\n",
       "      <td>y</td>\n",
       "      <td>t</td>\n",
       "      <td>a</td>\n",
       "      <td>f</td>\n",
       "      <td>c</td>\n",
       "      <td>b</td>\n",
       "      <td>n</td>\n",
       "      <td>e</td>\n",
       "      <td>...</td>\n",
       "      <td>w</td>\n",
       "      <td>w</td>\n",
       "      <td>p</td>\n",
       "      <td>w</td>\n",
       "      <td>o</td>\n",
       "      <td>p</td>\n",
       "      <td>k</td>\n",
       "      <td>n</td>\n",
       "      <td>g</td>\n",
       "      <td>e</td>\n",
       "    </tr>\n",
       "    <tr>\n",
       "      <th>6</th>\n",
       "      <td>b</td>\n",
       "      <td>s</td>\n",
       "      <td>w</td>\n",
       "      <td>t</td>\n",
       "      <td>a</td>\n",
       "      <td>f</td>\n",
       "      <td>c</td>\n",
       "      <td>b</td>\n",
       "      <td>g</td>\n",
       "      <td>e</td>\n",
       "      <td>...</td>\n",
       "      <td>w</td>\n",
       "      <td>w</td>\n",
       "      <td>p</td>\n",
       "      <td>w</td>\n",
       "      <td>o</td>\n",
       "      <td>p</td>\n",
       "      <td>k</td>\n",
       "      <td>n</td>\n",
       "      <td>m</td>\n",
       "      <td>e</td>\n",
       "    </tr>\n",
       "    <tr>\n",
       "      <th>7</th>\n",
       "      <td>b</td>\n",
       "      <td>y</td>\n",
       "      <td>w</td>\n",
       "      <td>t</td>\n",
       "      <td>l</td>\n",
       "      <td>f</td>\n",
       "      <td>c</td>\n",
       "      <td>b</td>\n",
       "      <td>n</td>\n",
       "      <td>e</td>\n",
       "      <td>...</td>\n",
       "      <td>w</td>\n",
       "      <td>w</td>\n",
       "      <td>p</td>\n",
       "      <td>w</td>\n",
       "      <td>o</td>\n",
       "      <td>p</td>\n",
       "      <td>n</td>\n",
       "      <td>s</td>\n",
       "      <td>m</td>\n",
       "      <td>e</td>\n",
       "    </tr>\n",
       "    <tr>\n",
       "      <th>8</th>\n",
       "      <td>x</td>\n",
       "      <td>y</td>\n",
       "      <td>w</td>\n",
       "      <td>t</td>\n",
       "      <td>p</td>\n",
       "      <td>f</td>\n",
       "      <td>c</td>\n",
       "      <td>n</td>\n",
       "      <td>p</td>\n",
       "      <td>e</td>\n",
       "      <td>...</td>\n",
       "      <td>w</td>\n",
       "      <td>w</td>\n",
       "      <td>p</td>\n",
       "      <td>w</td>\n",
       "      <td>o</td>\n",
       "      <td>p</td>\n",
       "      <td>k</td>\n",
       "      <td>v</td>\n",
       "      <td>g</td>\n",
       "      <td>p</td>\n",
       "    </tr>\n",
       "    <tr>\n",
       "      <th>9</th>\n",
       "      <td>b</td>\n",
       "      <td>s</td>\n",
       "      <td>y</td>\n",
       "      <td>t</td>\n",
       "      <td>a</td>\n",
       "      <td>f</td>\n",
       "      <td>c</td>\n",
       "      <td>b</td>\n",
       "      <td>g</td>\n",
       "      <td>e</td>\n",
       "      <td>...</td>\n",
       "      <td>w</td>\n",
       "      <td>w</td>\n",
       "      <td>p</td>\n",
       "      <td>w</td>\n",
       "      <td>o</td>\n",
       "      <td>p</td>\n",
       "      <td>k</td>\n",
       "      <td>s</td>\n",
       "      <td>m</td>\n",
       "      <td>e</td>\n",
       "    </tr>\n",
       "    <tr>\n",
       "      <th>10</th>\n",
       "      <td>x</td>\n",
       "      <td>y</td>\n",
       "      <td>y</td>\n",
       "      <td>t</td>\n",
       "      <td>l</td>\n",
       "      <td>f</td>\n",
       "      <td>c</td>\n",
       "      <td>b</td>\n",
       "      <td>g</td>\n",
       "      <td>e</td>\n",
       "      <td>...</td>\n",
       "      <td>w</td>\n",
       "      <td>w</td>\n",
       "      <td>p</td>\n",
       "      <td>w</td>\n",
       "      <td>o</td>\n",
       "      <td>p</td>\n",
       "      <td>n</td>\n",
       "      <td>n</td>\n",
       "      <td>g</td>\n",
       "      <td>e</td>\n",
       "    </tr>\n",
       "    <tr>\n",
       "      <th>11</th>\n",
       "      <td>x</td>\n",
       "      <td>y</td>\n",
       "      <td>y</td>\n",
       "      <td>t</td>\n",
       "      <td>a</td>\n",
       "      <td>f</td>\n",
       "      <td>c</td>\n",
       "      <td>b</td>\n",
       "      <td>n</td>\n",
       "      <td>e</td>\n",
       "      <td>...</td>\n",
       "      <td>w</td>\n",
       "      <td>w</td>\n",
       "      <td>p</td>\n",
       "      <td>w</td>\n",
       "      <td>o</td>\n",
       "      <td>p</td>\n",
       "      <td>k</td>\n",
       "      <td>s</td>\n",
       "      <td>m</td>\n",
       "      <td>e</td>\n",
       "    </tr>\n",
       "    <tr>\n",
       "      <th>12</th>\n",
       "      <td>b</td>\n",
       "      <td>s</td>\n",
       "      <td>y</td>\n",
       "      <td>t</td>\n",
       "      <td>a</td>\n",
       "      <td>f</td>\n",
       "      <td>c</td>\n",
       "      <td>b</td>\n",
       "      <td>w</td>\n",
       "      <td>e</td>\n",
       "      <td>...</td>\n",
       "      <td>w</td>\n",
       "      <td>w</td>\n",
       "      <td>p</td>\n",
       "      <td>w</td>\n",
       "      <td>o</td>\n",
       "      <td>p</td>\n",
       "      <td>n</td>\n",
       "      <td>s</td>\n",
       "      <td>g</td>\n",
       "      <td>e</td>\n",
       "    </tr>\n",
       "    <tr>\n",
       "      <th>13</th>\n",
       "      <td>x</td>\n",
       "      <td>y</td>\n",
       "      <td>w</td>\n",
       "      <td>t</td>\n",
       "      <td>p</td>\n",
       "      <td>f</td>\n",
       "      <td>c</td>\n",
       "      <td>n</td>\n",
       "      <td>k</td>\n",
       "      <td>e</td>\n",
       "      <td>...</td>\n",
       "      <td>w</td>\n",
       "      <td>w</td>\n",
       "      <td>p</td>\n",
       "      <td>w</td>\n",
       "      <td>o</td>\n",
       "      <td>p</td>\n",
       "      <td>n</td>\n",
       "      <td>v</td>\n",
       "      <td>u</td>\n",
       "      <td>p</td>\n",
       "    </tr>\n",
       "    <tr>\n",
       "      <th>14</th>\n",
       "      <td>x</td>\n",
       "      <td>f</td>\n",
       "      <td>n</td>\n",
       "      <td>f</td>\n",
       "      <td>n</td>\n",
       "      <td>f</td>\n",
       "      <td>w</td>\n",
       "      <td>b</td>\n",
       "      <td>n</td>\n",
       "      <td>t</td>\n",
       "      <td>...</td>\n",
       "      <td>w</td>\n",
       "      <td>w</td>\n",
       "      <td>p</td>\n",
       "      <td>w</td>\n",
       "      <td>o</td>\n",
       "      <td>e</td>\n",
       "      <td>k</td>\n",
       "      <td>a</td>\n",
       "      <td>g</td>\n",
       "      <td>e</td>\n",
       "    </tr>\n",
       "  </tbody>\n",
       "</table>\n",
       "<p>15 rows × 23 columns</p>\n",
       "</div>"
      ],
      "text/plain": [
       "   cap-shape cap-surface cap-color bruises%3F odor gill-attachment  \\\n",
       "0          x           s         n          t    p               f   \n",
       "1          x           s         y          t    a               f   \n",
       "2          b           s         w          t    l               f   \n",
       "3          x           y         w          t    p               f   \n",
       "4          x           s         g          f    n               f   \n",
       "5          x           y         y          t    a               f   \n",
       "6          b           s         w          t    a               f   \n",
       "7          b           y         w          t    l               f   \n",
       "8          x           y         w          t    p               f   \n",
       "9          b           s         y          t    a               f   \n",
       "10         x           y         y          t    l               f   \n",
       "11         x           y         y          t    a               f   \n",
       "12         b           s         y          t    a               f   \n",
       "13         x           y         w          t    p               f   \n",
       "14         x           f         n          f    n               f   \n",
       "\n",
       "   gill-spacing gill-size gill-color stalk-shape  ... stalk-color-above-ring  \\\n",
       "0             c         n          k           e  ...                      w   \n",
       "1             c         b          k           e  ...                      w   \n",
       "2             c         b          n           e  ...                      w   \n",
       "3             c         n          n           e  ...                      w   \n",
       "4             w         b          k           t  ...                      w   \n",
       "5             c         b          n           e  ...                      w   \n",
       "6             c         b          g           e  ...                      w   \n",
       "7             c         b          n           e  ...                      w   \n",
       "8             c         n          p           e  ...                      w   \n",
       "9             c         b          g           e  ...                      w   \n",
       "10            c         b          g           e  ...                      w   \n",
       "11            c         b          n           e  ...                      w   \n",
       "12            c         b          w           e  ...                      w   \n",
       "13            c         n          k           e  ...                      w   \n",
       "14            w         b          n           t  ...                      w   \n",
       "\n",
       "   stalk-color-below-ring veil-type veil-color ring-number ring-type  \\\n",
       "0                       w         p          w           o         p   \n",
       "1                       w         p          w           o         p   \n",
       "2                       w         p          w           o         p   \n",
       "3                       w         p          w           o         p   \n",
       "4                       w         p          w           o         e   \n",
       "5                       w         p          w           o         p   \n",
       "6                       w         p          w           o         p   \n",
       "7                       w         p          w           o         p   \n",
       "8                       w         p          w           o         p   \n",
       "9                       w         p          w           o         p   \n",
       "10                      w         p          w           o         p   \n",
       "11                      w         p          w           o         p   \n",
       "12                      w         p          w           o         p   \n",
       "13                      w         p          w           o         p   \n",
       "14                      w         p          w           o         e   \n",
       "\n",
       "   spore-print-color population habitat class  \n",
       "0                  k          s       u     p  \n",
       "1                  n          n       g     e  \n",
       "2                  n          n       m     e  \n",
       "3                  k          s       u     p  \n",
       "4                  n          a       g     e  \n",
       "5                  k          n       g     e  \n",
       "6                  k          n       m     e  \n",
       "7                  n          s       m     e  \n",
       "8                  k          v       g     p  \n",
       "9                  k          s       m     e  \n",
       "10                 n          n       g     e  \n",
       "11                 k          s       m     e  \n",
       "12                 n          s       g     e  \n",
       "13                 n          v       u     p  \n",
       "14                 k          a       g     e  \n",
       "\n",
       "[15 rows x 23 columns]"
      ]
     },
     "execution_count": 5,
     "metadata": {},
     "output_type": "execute_result"
    }
   ],
   "source": [
    "# Выведем первые 15 строк датасета\n",
    "mushroom_dataset.head(15)"
   ]
  },
  {
   "cell_type": "code",
   "execution_count": 6,
   "id": "90b2071c",
   "metadata": {},
   "outputs": [
    {
     "data": {
      "text/html": [
       "<div>\n",
       "<style scoped>\n",
       "    .dataframe tbody tr th:only-of-type {\n",
       "        vertical-align: middle;\n",
       "    }\n",
       "\n",
       "    .dataframe tbody tr th {\n",
       "        vertical-align: top;\n",
       "    }\n",
       "\n",
       "    .dataframe thead th {\n",
       "        text-align: right;\n",
       "    }\n",
       "</style>\n",
       "<table border=\"1\" class=\"dataframe\">\n",
       "  <thead>\n",
       "    <tr style=\"text-align: right;\">\n",
       "      <th></th>\n",
       "      <th>cap-shape</th>\n",
       "      <th>cap-surface</th>\n",
       "      <th>cap-color</th>\n",
       "      <th>bruises%3F</th>\n",
       "      <th>odor</th>\n",
       "      <th>gill-attachment</th>\n",
       "      <th>gill-spacing</th>\n",
       "      <th>gill-size</th>\n",
       "      <th>gill-color</th>\n",
       "      <th>stalk-shape</th>\n",
       "      <th>...</th>\n",
       "      <th>stalk-color-above-ring</th>\n",
       "      <th>stalk-color-below-ring</th>\n",
       "      <th>veil-type</th>\n",
       "      <th>veil-color</th>\n",
       "      <th>ring-number</th>\n",
       "      <th>ring-type</th>\n",
       "      <th>spore-print-color</th>\n",
       "      <th>population</th>\n",
       "      <th>habitat</th>\n",
       "      <th>class</th>\n",
       "    </tr>\n",
       "  </thead>\n",
       "  <tbody>\n",
       "    <tr>\n",
       "      <th>8109</th>\n",
       "      <td>b</td>\n",
       "      <td>s</td>\n",
       "      <td>w</td>\n",
       "      <td>f</td>\n",
       "      <td>n</td>\n",
       "      <td>f</td>\n",
       "      <td>w</td>\n",
       "      <td>b</td>\n",
       "      <td>w</td>\n",
       "      <td>e</td>\n",
       "      <td>...</td>\n",
       "      <td>w</td>\n",
       "      <td>w</td>\n",
       "      <td>p</td>\n",
       "      <td>w</td>\n",
       "      <td>t</td>\n",
       "      <td>p</td>\n",
       "      <td>w</td>\n",
       "      <td>n</td>\n",
       "      <td>g</td>\n",
       "      <td>e</td>\n",
       "    </tr>\n",
       "    <tr>\n",
       "      <th>8110</th>\n",
       "      <td>x</td>\n",
       "      <td>s</td>\n",
       "      <td>n</td>\n",
       "      <td>f</td>\n",
       "      <td>n</td>\n",
       "      <td>a</td>\n",
       "      <td>c</td>\n",
       "      <td>b</td>\n",
       "      <td>o</td>\n",
       "      <td>e</td>\n",
       "      <td>...</td>\n",
       "      <td>o</td>\n",
       "      <td>o</td>\n",
       "      <td>p</td>\n",
       "      <td>o</td>\n",
       "      <td>o</td>\n",
       "      <td>p</td>\n",
       "      <td>n</td>\n",
       "      <td>v</td>\n",
       "      <td>l</td>\n",
       "      <td>e</td>\n",
       "    </tr>\n",
       "    <tr>\n",
       "      <th>8111</th>\n",
       "      <td>k</td>\n",
       "      <td>s</td>\n",
       "      <td>w</td>\n",
       "      <td>f</td>\n",
       "      <td>n</td>\n",
       "      <td>f</td>\n",
       "      <td>w</td>\n",
       "      <td>b</td>\n",
       "      <td>p</td>\n",
       "      <td>e</td>\n",
       "      <td>...</td>\n",
       "      <td>w</td>\n",
       "      <td>w</td>\n",
       "      <td>p</td>\n",
       "      <td>w</td>\n",
       "      <td>t</td>\n",
       "      <td>p</td>\n",
       "      <td>w</td>\n",
       "      <td>n</td>\n",
       "      <td>g</td>\n",
       "      <td>e</td>\n",
       "    </tr>\n",
       "    <tr>\n",
       "      <th>8112</th>\n",
       "      <td>k</td>\n",
       "      <td>s</td>\n",
       "      <td>n</td>\n",
       "      <td>f</td>\n",
       "      <td>n</td>\n",
       "      <td>a</td>\n",
       "      <td>c</td>\n",
       "      <td>b</td>\n",
       "      <td>o</td>\n",
       "      <td>e</td>\n",
       "      <td>...</td>\n",
       "      <td>o</td>\n",
       "      <td>o</td>\n",
       "      <td>p</td>\n",
       "      <td>n</td>\n",
       "      <td>o</td>\n",
       "      <td>p</td>\n",
       "      <td>b</td>\n",
       "      <td>v</td>\n",
       "      <td>l</td>\n",
       "      <td>e</td>\n",
       "    </tr>\n",
       "    <tr>\n",
       "      <th>8113</th>\n",
       "      <td>k</td>\n",
       "      <td>y</td>\n",
       "      <td>e</td>\n",
       "      <td>f</td>\n",
       "      <td>y</td>\n",
       "      <td>f</td>\n",
       "      <td>c</td>\n",
       "      <td>n</td>\n",
       "      <td>b</td>\n",
       "      <td>t</td>\n",
       "      <td>...</td>\n",
       "      <td>p</td>\n",
       "      <td>p</td>\n",
       "      <td>p</td>\n",
       "      <td>w</td>\n",
       "      <td>o</td>\n",
       "      <td>e</td>\n",
       "      <td>w</td>\n",
       "      <td>v</td>\n",
       "      <td>d</td>\n",
       "      <td>p</td>\n",
       "    </tr>\n",
       "    <tr>\n",
       "      <th>8114</th>\n",
       "      <td>f</td>\n",
       "      <td>y</td>\n",
       "      <td>c</td>\n",
       "      <td>f</td>\n",
       "      <td>m</td>\n",
       "      <td>a</td>\n",
       "      <td>c</td>\n",
       "      <td>b</td>\n",
       "      <td>y</td>\n",
       "      <td>e</td>\n",
       "      <td>...</td>\n",
       "      <td>c</td>\n",
       "      <td>c</td>\n",
       "      <td>p</td>\n",
       "      <td>w</td>\n",
       "      <td>n</td>\n",
       "      <td>n</td>\n",
       "      <td>w</td>\n",
       "      <td>c</td>\n",
       "      <td>d</td>\n",
       "      <td>p</td>\n",
       "    </tr>\n",
       "    <tr>\n",
       "      <th>8115</th>\n",
       "      <td>x</td>\n",
       "      <td>s</td>\n",
       "      <td>n</td>\n",
       "      <td>f</td>\n",
       "      <td>n</td>\n",
       "      <td>a</td>\n",
       "      <td>c</td>\n",
       "      <td>b</td>\n",
       "      <td>y</td>\n",
       "      <td>e</td>\n",
       "      <td>...</td>\n",
       "      <td>o</td>\n",
       "      <td>o</td>\n",
       "      <td>p</td>\n",
       "      <td>o</td>\n",
       "      <td>o</td>\n",
       "      <td>p</td>\n",
       "      <td>o</td>\n",
       "      <td>v</td>\n",
       "      <td>l</td>\n",
       "      <td>e</td>\n",
       "    </tr>\n",
       "    <tr>\n",
       "      <th>8116</th>\n",
       "      <td>k</td>\n",
       "      <td>y</td>\n",
       "      <td>n</td>\n",
       "      <td>f</td>\n",
       "      <td>s</td>\n",
       "      <td>f</td>\n",
       "      <td>c</td>\n",
       "      <td>n</td>\n",
       "      <td>b</td>\n",
       "      <td>t</td>\n",
       "      <td>...</td>\n",
       "      <td>p</td>\n",
       "      <td>w</td>\n",
       "      <td>p</td>\n",
       "      <td>w</td>\n",
       "      <td>o</td>\n",
       "      <td>e</td>\n",
       "      <td>w</td>\n",
       "      <td>v</td>\n",
       "      <td>l</td>\n",
       "      <td>p</td>\n",
       "    </tr>\n",
       "    <tr>\n",
       "      <th>8117</th>\n",
       "      <td>k</td>\n",
       "      <td>s</td>\n",
       "      <td>e</td>\n",
       "      <td>f</td>\n",
       "      <td>y</td>\n",
       "      <td>f</td>\n",
       "      <td>c</td>\n",
       "      <td>n</td>\n",
       "      <td>b</td>\n",
       "      <td>t</td>\n",
       "      <td>...</td>\n",
       "      <td>p</td>\n",
       "      <td>w</td>\n",
       "      <td>p</td>\n",
       "      <td>w</td>\n",
       "      <td>o</td>\n",
       "      <td>e</td>\n",
       "      <td>w</td>\n",
       "      <td>v</td>\n",
       "      <td>d</td>\n",
       "      <td>p</td>\n",
       "    </tr>\n",
       "    <tr>\n",
       "      <th>8118</th>\n",
       "      <td>k</td>\n",
       "      <td>y</td>\n",
       "      <td>n</td>\n",
       "      <td>f</td>\n",
       "      <td>f</td>\n",
       "      <td>f</td>\n",
       "      <td>c</td>\n",
       "      <td>n</td>\n",
       "      <td>b</td>\n",
       "      <td>t</td>\n",
       "      <td>...</td>\n",
       "      <td>p</td>\n",
       "      <td>w</td>\n",
       "      <td>p</td>\n",
       "      <td>w</td>\n",
       "      <td>o</td>\n",
       "      <td>e</td>\n",
       "      <td>w</td>\n",
       "      <td>v</td>\n",
       "      <td>d</td>\n",
       "      <td>p</td>\n",
       "    </tr>\n",
       "    <tr>\n",
       "      <th>8119</th>\n",
       "      <td>k</td>\n",
       "      <td>s</td>\n",
       "      <td>n</td>\n",
       "      <td>f</td>\n",
       "      <td>n</td>\n",
       "      <td>a</td>\n",
       "      <td>c</td>\n",
       "      <td>b</td>\n",
       "      <td>y</td>\n",
       "      <td>e</td>\n",
       "      <td>...</td>\n",
       "      <td>o</td>\n",
       "      <td>o</td>\n",
       "      <td>p</td>\n",
       "      <td>o</td>\n",
       "      <td>o</td>\n",
       "      <td>p</td>\n",
       "      <td>b</td>\n",
       "      <td>c</td>\n",
       "      <td>l</td>\n",
       "      <td>e</td>\n",
       "    </tr>\n",
       "    <tr>\n",
       "      <th>8120</th>\n",
       "      <td>x</td>\n",
       "      <td>s</td>\n",
       "      <td>n</td>\n",
       "      <td>f</td>\n",
       "      <td>n</td>\n",
       "      <td>a</td>\n",
       "      <td>c</td>\n",
       "      <td>b</td>\n",
       "      <td>y</td>\n",
       "      <td>e</td>\n",
       "      <td>...</td>\n",
       "      <td>o</td>\n",
       "      <td>o</td>\n",
       "      <td>p</td>\n",
       "      <td>n</td>\n",
       "      <td>o</td>\n",
       "      <td>p</td>\n",
       "      <td>b</td>\n",
       "      <td>v</td>\n",
       "      <td>l</td>\n",
       "      <td>e</td>\n",
       "    </tr>\n",
       "    <tr>\n",
       "      <th>8121</th>\n",
       "      <td>f</td>\n",
       "      <td>s</td>\n",
       "      <td>n</td>\n",
       "      <td>f</td>\n",
       "      <td>n</td>\n",
       "      <td>a</td>\n",
       "      <td>c</td>\n",
       "      <td>b</td>\n",
       "      <td>n</td>\n",
       "      <td>e</td>\n",
       "      <td>...</td>\n",
       "      <td>o</td>\n",
       "      <td>o</td>\n",
       "      <td>p</td>\n",
       "      <td>o</td>\n",
       "      <td>o</td>\n",
       "      <td>p</td>\n",
       "      <td>b</td>\n",
       "      <td>c</td>\n",
       "      <td>l</td>\n",
       "      <td>e</td>\n",
       "    </tr>\n",
       "    <tr>\n",
       "      <th>8122</th>\n",
       "      <td>k</td>\n",
       "      <td>y</td>\n",
       "      <td>n</td>\n",
       "      <td>f</td>\n",
       "      <td>y</td>\n",
       "      <td>f</td>\n",
       "      <td>c</td>\n",
       "      <td>n</td>\n",
       "      <td>b</td>\n",
       "      <td>t</td>\n",
       "      <td>...</td>\n",
       "      <td>w</td>\n",
       "      <td>w</td>\n",
       "      <td>p</td>\n",
       "      <td>w</td>\n",
       "      <td>o</td>\n",
       "      <td>e</td>\n",
       "      <td>w</td>\n",
       "      <td>v</td>\n",
       "      <td>l</td>\n",
       "      <td>p</td>\n",
       "    </tr>\n",
       "    <tr>\n",
       "      <th>8123</th>\n",
       "      <td>x</td>\n",
       "      <td>s</td>\n",
       "      <td>n</td>\n",
       "      <td>f</td>\n",
       "      <td>n</td>\n",
       "      <td>a</td>\n",
       "      <td>c</td>\n",
       "      <td>b</td>\n",
       "      <td>y</td>\n",
       "      <td>e</td>\n",
       "      <td>...</td>\n",
       "      <td>o</td>\n",
       "      <td>o</td>\n",
       "      <td>p</td>\n",
       "      <td>o</td>\n",
       "      <td>o</td>\n",
       "      <td>p</td>\n",
       "      <td>o</td>\n",
       "      <td>c</td>\n",
       "      <td>l</td>\n",
       "      <td>e</td>\n",
       "    </tr>\n",
       "  </tbody>\n",
       "</table>\n",
       "<p>15 rows × 23 columns</p>\n",
       "</div>"
      ],
      "text/plain": [
       "     cap-shape cap-surface cap-color bruises%3F odor gill-attachment  \\\n",
       "8109         b           s         w          f    n               f   \n",
       "8110         x           s         n          f    n               a   \n",
       "8111         k           s         w          f    n               f   \n",
       "8112         k           s         n          f    n               a   \n",
       "8113         k           y         e          f    y               f   \n",
       "8114         f           y         c          f    m               a   \n",
       "8115         x           s         n          f    n               a   \n",
       "8116         k           y         n          f    s               f   \n",
       "8117         k           s         e          f    y               f   \n",
       "8118         k           y         n          f    f               f   \n",
       "8119         k           s         n          f    n               a   \n",
       "8120         x           s         n          f    n               a   \n",
       "8121         f           s         n          f    n               a   \n",
       "8122         k           y         n          f    y               f   \n",
       "8123         x           s         n          f    n               a   \n",
       "\n",
       "     gill-spacing gill-size gill-color stalk-shape  ...  \\\n",
       "8109            w         b          w           e  ...   \n",
       "8110            c         b          o           e  ...   \n",
       "8111            w         b          p           e  ...   \n",
       "8112            c         b          o           e  ...   \n",
       "8113            c         n          b           t  ...   \n",
       "8114            c         b          y           e  ...   \n",
       "8115            c         b          y           e  ...   \n",
       "8116            c         n          b           t  ...   \n",
       "8117            c         n          b           t  ...   \n",
       "8118            c         n          b           t  ...   \n",
       "8119            c         b          y           e  ...   \n",
       "8120            c         b          y           e  ...   \n",
       "8121            c         b          n           e  ...   \n",
       "8122            c         n          b           t  ...   \n",
       "8123            c         b          y           e  ...   \n",
       "\n",
       "     stalk-color-above-ring stalk-color-below-ring veil-type veil-color  \\\n",
       "8109                      w                      w         p          w   \n",
       "8110                      o                      o         p          o   \n",
       "8111                      w                      w         p          w   \n",
       "8112                      o                      o         p          n   \n",
       "8113                      p                      p         p          w   \n",
       "8114                      c                      c         p          w   \n",
       "8115                      o                      o         p          o   \n",
       "8116                      p                      w         p          w   \n",
       "8117                      p                      w         p          w   \n",
       "8118                      p                      w         p          w   \n",
       "8119                      o                      o         p          o   \n",
       "8120                      o                      o         p          n   \n",
       "8121                      o                      o         p          o   \n",
       "8122                      w                      w         p          w   \n",
       "8123                      o                      o         p          o   \n",
       "\n",
       "     ring-number ring-type spore-print-color population habitat class  \n",
       "8109           t         p                 w          n       g     e  \n",
       "8110           o         p                 n          v       l     e  \n",
       "8111           t         p                 w          n       g     e  \n",
       "8112           o         p                 b          v       l     e  \n",
       "8113           o         e                 w          v       d     p  \n",
       "8114           n         n                 w          c       d     p  \n",
       "8115           o         p                 o          v       l     e  \n",
       "8116           o         e                 w          v       l     p  \n",
       "8117           o         e                 w          v       d     p  \n",
       "8118           o         e                 w          v       d     p  \n",
       "8119           o         p                 b          c       l     e  \n",
       "8120           o         p                 b          v       l     e  \n",
       "8121           o         p                 b          c       l     e  \n",
       "8122           o         e                 w          v       l     p  \n",
       "8123           o         p                 o          c       l     e  \n",
       "\n",
       "[15 rows x 23 columns]"
      ]
     },
     "execution_count": 6,
     "metadata": {},
     "output_type": "execute_result"
    }
   ],
   "source": [
    "# Выведем последние 15 строк датасета\n",
    "mushroom_dataset.tail(15)"
   ]
  },
  {
   "cell_type": "code",
   "execution_count": 7,
   "id": "81145499",
   "metadata": {},
   "outputs": [
    {
     "data": {
      "text/plain": [
       "Index(['cap-shape', 'cap-surface', 'cap-color', 'bruises%3F', 'odor',\n",
       "       'gill-attachment', 'gill-spacing', 'gill-size', 'gill-color',\n",
       "       'stalk-shape', 'stalk-root', 'stalk-surface-above-ring',\n",
       "       'stalk-surface-below-ring', 'stalk-color-above-ring',\n",
       "       'stalk-color-below-ring', 'veil-type', 'veil-color', 'ring-number',\n",
       "       'ring-type', 'spore-print-color', 'population', 'habitat', 'class'],\n",
       "      dtype='object')"
      ]
     },
     "execution_count": 7,
     "metadata": {},
     "output_type": "execute_result"
    }
   ],
   "source": [
    "# Выведем имена столбцов (признаков)\n",
    "mushroom_dataset.columns"
   ]
  },
  {
   "cell_type": "code",
   "execution_count": 8,
   "id": "6e992723",
   "metadata": {},
   "outputs": [
    {
     "name": "stdout",
     "output_type": "stream",
     "text": [
      "<class 'pandas.core.frame.DataFrame'>\n",
      "RangeIndex: 8124 entries, 0 to 8123\n",
      "Data columns (total 23 columns):\n",
      " #   Column                    Non-Null Count  Dtype   \n",
      "---  ------                    --------------  -----   \n",
      " 0   cap-shape                 8124 non-null   category\n",
      " 1   cap-surface               8124 non-null   category\n",
      " 2   cap-color                 8124 non-null   category\n",
      " 3   bruises%3F                8124 non-null   category\n",
      " 4   odor                      8124 non-null   category\n",
      " 5   gill-attachment           8124 non-null   category\n",
      " 6   gill-spacing              8124 non-null   category\n",
      " 7   gill-size                 8124 non-null   category\n",
      " 8   gill-color                8124 non-null   category\n",
      " 9   stalk-shape               8124 non-null   category\n",
      " 10  stalk-root                5644 non-null   category\n",
      " 11  stalk-surface-above-ring  8124 non-null   category\n",
      " 12  stalk-surface-below-ring  8124 non-null   category\n",
      " 13  stalk-color-above-ring    8124 non-null   category\n",
      " 14  stalk-color-below-ring    8124 non-null   category\n",
      " 15  veil-type                 8124 non-null   category\n",
      " 16  veil-color                8124 non-null   category\n",
      " 17  ring-number               8124 non-null   category\n",
      " 18  ring-type                 8124 non-null   category\n",
      " 19  spore-print-color         8124 non-null   category\n",
      " 20  population                8124 non-null   category\n",
      " 21  habitat                   8124 non-null   category\n",
      " 22  class                     8124 non-null   category\n",
      "dtypes: category(23)\n",
      "memory usage: 188.0 KB\n"
     ]
    }
   ],
   "source": [
    "# Выведем информацию по датасету\n",
    "mushroom_dataset.info()"
   ]
  },
  {
   "cell_type": "markdown",
   "id": "9ca90e5e",
   "metadata": {},
   "source": [
    "### 2. Визуализация данных и вычисление основных характеристик"
   ]
  },
  {
   "cell_type": "markdown",
   "id": "e3df9a88",
   "metadata": {},
   "source": [
    "Перед обработкой данных посмотрим на конкретные признаки и визуализируем данные по ним, используя возможности библиотек matplotlib и seaborn"
   ]
  },
  {
   "cell_type": "markdown",
   "id": "5c8ce24c",
   "metadata": {},
   "source": [
    "Для начала построим гистограмму, показывающую количество съедобных и несъедобных грибов по признаку формы шляпки"
   ]
  },
  {
   "cell_type": "code",
   "execution_count": 9,
   "id": "6f0d7417",
   "metadata": {},
   "outputs": [
    {
     "data": {
      "text/plain": [
       "<AxesSubplot:xlabel='cap-shape', ylabel='count'>"
      ]
     },
     "execution_count": 9,
     "metadata": {},
     "output_type": "execute_result"
    },
    {
     "data": {
      "image/png": "[encoded data removed]",
      "text/plain": [
       "<Figure size 864x504 with 1 Axes>"
      ]
     },
     "metadata": {
      "needs_background": "light"
     },
     "output_type": "display_data"
    }
   ],
   "source": [
    "plt.figure(figsize=(12,7))\n",
    "sns.countplot(data=mushroom_dataset, x='cap-shape', hue='class', palette='bright')"
   ]
  },
  {
   "cell_type": "markdown",
   "id": "d3a3eca9",
   "metadata": {},
   "source": [
    "Классы грибов деляться на съедобные (обозначены синим цветом) и несъедобные (обозначены оранжевым цветом). В признаке \"cap-shape\" (форма шляпки) буквы обозначают следующее: bell=b (колоколчатая), conical=c (коническая), convex=x (выпуклая), flat=f (плоская), knobbed=k (бугристая), sunken=s (впалая). Проанализировав гистограмму, можно заметить, что преобладающей формой шляпки является выпуклая и большинство грибов с такой формой шляпки является съедобным. Грибы, имеющие бугристую шляпку в большинстве своем несъедобные, а колокольчатую форму имеют в основном съедобные грибы. Плоская форма шляпки с практически одинаковой частотой встречается как у съедобных, так и у несъедобных грибов. Впалая форма встречается очень редко, и грибы с такой шляпкой относятся к съедобным. Также очень редко встречается коническая форма шляпки. Все грибы с такой формой относят к несъедобным"
   ]
  },
  {
   "cell_type": "markdown",
   "id": "284967e9",
   "metadata": {},
   "source": [
    "Теперь построим гистограмму для цвета шляпки"
   ]
  },
  {
   "cell_type": "code",
   "execution_count": 10,
   "id": "d1f59bc0",
   "metadata": {},
   "outputs": [
    {
     "data": {
      "text/plain": [
       "<AxesSubplot:xlabel='cap-color', ylabel='count'>"
      ]
     },
     "execution_count": 10,
     "metadata": {},
     "output_type": "execute_result"
    },
    {
     "data": {
      "image/png": "[encoded data removed]",
      "text/plain": [
       "<Figure size 864x504 with 1 Axes>"
      ]
     },
     "metadata": {
      "needs_background": "light"
     },
     "output_type": "display_data"
    }
   ],
   "source": [
    "plt.figure(figsize=(12,7))\n",
    "sns.countplot(data=mushroom_dataset, x='cap-color', hue='class', palette='bright')"
   ]
  },
  {
   "cell_type": "markdown",
   "id": "cf6a9c4b",
   "metadata": {},
   "source": [
    "В признаке \"cap-color\" (цвет шляпки) буквы обозначают следующее: brown=n (коричневый), buff=b (желтовато-коричневый), cinnamon=c (светло-коричневый), gray=g (серый), green=r (зеленый), pink=p (розовый), purple=u (фиолетовый), red=e (красный), white=w (белый), yellow=y (желтый). Проанализировав гистограмму, можно заметить, что преобладающим цветом является коричневый и большинство грибов с таким цветом шляпки является съедобным. Можно также отметить, что полностью съедобными являются только грибы с зеленым или фиолетовым цветом шляпки."
   ]
  },
  {
   "cell_type": "markdown",
   "id": "20f87a21",
   "metadata": {},
   "source": [
    "Теперь построим гистограмму, показывающую количество съедобных и несъедобных грибов по их запаху"
   ]
  },
  {
   "cell_type": "code",
   "execution_count": 11,
   "id": "dddf6623",
   "metadata": {},
   "outputs": [
    {
     "data": {
      "text/plain": [
       "<AxesSubplot:xlabel='odor', ylabel='count'>"
      ]
     },
     "execution_count": 11,
     "metadata": {},
     "output_type": "execute_result"
    },
    {
     "data": {
      "image/png": "[encoded data removed]",
      "text/plain": [
       "<Figure size 864x504 with 1 Axes>"
      ]
     },
     "metadata": {
      "needs_background": "light"
     },
     "output_type": "display_data"
    }
   ],
   "source": [
    "plt.figure(figsize=(12,7))\n",
    "sns.countplot(data=mushroom_dataset, x='odor', hue='class', palette='bright')"
   ]
  },
  {
   "cell_type": "markdown",
   "id": "c8099449",
   "metadata": {},
   "source": [
    "В признаке \"odor\" (запах) буквы обозначают следующее: almond=a (миндальный), anise=l (анисовый), creosote=c (креозотовый), fishy=y (рыбный), foul=f (очень неприятный, противный), musty=m (затхлый), none=n (никакой), pungent=p (резкий, едкий), spicy=s (острый, пряный). Как мы можем заметить, грибы с креозотовым, очень неприятным, затхлым, резким, пряным или рыбным запахов всегда относятся к несъедобным, в то время как грибы с миндальным или анисовым запахом всегда относятся к съедобным. Что касается грибов без запаха, то большая их часть является съедобной, но встречаются также и несъедобные грибы, которые не имеют запаха"
   ]
  },
  {
   "cell_type": "markdown",
   "id": "af8a4c71",
   "metadata": {},
   "source": [
    "Теперь посмотрим, как грибы распределены по признаку \"среда обитания\""
   ]
  },
  {
   "cell_type": "code",
   "execution_count": 12,
   "id": "e5ebb13b",
   "metadata": {},
   "outputs": [
    {
     "data": {
      "text/plain": [
       "<AxesSubplot:xlabel='habitat', ylabel='count'>"
      ]
     },
     "execution_count": 12,
     "metadata": {},
     "output_type": "execute_result"
    },
    {
     "data": {
      "image/png": "[encoded data removed]",
      "text/plain": [
       "<Figure size 864x504 with 1 Axes>"
      ]
     },
     "metadata": {
      "needs_background": "light"
     },
     "output_type": "display_data"
    }
   ],
   "source": [
    "plt.figure(figsize=(12,7))\n",
    "sns.countplot(data=mushroom_dataset, x='habitat', palette='bright')"
   ]
  },
  {
   "cell_type": "markdown",
   "id": "cf934cf4",
   "metadata": {},
   "source": [
    "В признаке \"habitat\" (среда обитания) буквы обозначают следующее: grasses=g (трава), leaves=l (листья), meadows=m (луга), paths=p (дороги, тропинки), urban=u (город), waste=w (отходы), woods=d (леса). Как мы видим, чаще всего грибы можно встретить в лесу, а реже всего - в отходах"
   ]
  },
  {
   "cell_type": "markdown",
   "id": "75d448bb",
   "metadata": {},
   "source": [
    "Построим, как грибы распределены по типу корня стебля"
   ]
  },
  {
   "cell_type": "code",
   "execution_count": 13,
   "id": "52996ce7",
   "metadata": {},
   "outputs": [
    {
     "data": {
      "text/plain": [
       "<AxesSubplot:xlabel='stalk-root', ylabel='count'>"
      ]
     },
     "execution_count": 13,
     "metadata": {},
     "output_type": "execute_result"
    },
    {
     "data": {
      "image/png": "[encoded data removed]",
      "text/plain": [
       "<Figure size 864x504 with 1 Axes>"
      ]
     },
     "metadata": {
      "needs_background": "light"
     },
     "output_type": "display_data"
    }
   ],
   "source": [
    "plt.figure(figsize=(12,7))\n",
    "sns.countplot(data=mushroom_dataset, x='stalk-root', palette='bright')"
   ]
  },
  {
   "cell_type": "code",
   "execution_count": 14,
   "id": "5ac9cd0c",
   "metadata": {},
   "outputs": [
    {
     "data": {
      "text/plain": [
       "<AxesSubplot:xlabel='stalk-root', ylabel='count'>"
      ]
     },
     "execution_count": 14,
     "metadata": {},
     "output_type": "execute_result"
    },
    {
     "data": {
      "image/png": "[encoded data removed]",
      "text/plain": [
       "<Figure size 864x504 with 1 Axes>"
      ]
     },
     "metadata": {
      "needs_background": "light"
     },
     "output_type": "display_data"
    }
   ],
   "source": [
    "plt.figure(figsize=(12,7))\n",
    "sns.countplot(data=mushroom_dataset, x='stalk-root', hue='class', palette='bright')"
   ]
  },
  {
   "cell_type": "markdown",
   "id": "b86849ae",
   "metadata": {},
   "source": [
    "В признаке \"habitat\" (среда обитания) буквы обозначают следующее: bulbous=b (луковичный), club=c (клубчатый), cup=u (чашевидный), equal=e (равный), rhizomorphs=z (ризоморфный), rooted=r (укореняющийся). Как мы можем заметить, в этом признаке имеются пропущенные значения (чашевидные и ризоморфные грибы отсутствуют)"
   ]
  },
  {
   "cell_type": "markdown",
   "id": "6f3dd07d",
   "metadata": {},
   "source": [
    "Теперь мы можем посмотреть распределение данных по двум классам - съедобные и несъедобные грибы"
   ]
  },
  {
   "cell_type": "code",
   "execution_count": 15,
   "id": "fd9cbdb3",
   "metadata": {},
   "outputs": [
    {
     "data": {
      "text/plain": [
       "<AxesSubplot:xlabel='class', ylabel='count'>"
      ]
     },
     "execution_count": 15,
     "metadata": {},
     "output_type": "execute_result"
    },
    {
     "data": {
      "image/png": "[encoded data removed]",
      "text/plain": [
       "<Figure size 864x504 with 1 Axes>"
      ]
     },
     "metadata": {
      "needs_background": "light"
     },
     "output_type": "display_data"
    }
   ],
   "source": [
    "plt.figure(figsize=(12,7))\n",
    "sns.countplot(data=mushroom_dataset, x='class', palette='bright')"
   ]
  },
  {
   "cell_type": "markdown",
   "id": "55bc83f7",
   "metadata": {},
   "source": [
    "Синим цветом обозначены съедобные грибы, оранжевым - несъедобные. Съедобных грибов в датасете больше, чем несъедобных"
   ]
  },
  {
   "cell_type": "markdown",
   "id": "9ab4e925",
   "metadata": {},
   "source": [
    "Далее выведем описательную статистику по датасету (все признаки данного датасета являются категориальными)"
   ]
  },
  {
   "cell_type": "code",
   "execution_count": 16,
   "id": "b38b903d",
   "metadata": {},
   "outputs": [
    {
     "data": {
      "text/html": [
       "<div>\n",
       "<style scoped>\n",
       "    .dataframe tbody tr th:only-of-type {\n",
       "        vertical-align: middle;\n",
       "    }\n",
       "\n",
       "    .dataframe tbody tr th {\n",
       "        vertical-align: top;\n",
       "    }\n",
       "\n",
       "    .dataframe thead th {\n",
       "        text-align: right;\n",
       "    }\n",
       "</style>\n",
       "<table border=\"1\" class=\"dataframe\">\n",
       "  <thead>\n",
       "    <tr style=\"text-align: right;\">\n",
       "      <th></th>\n",
       "      <th>cap-shape</th>\n",
       "      <th>cap-surface</th>\n",
       "      <th>cap-color</th>\n",
       "      <th>bruises%3F</th>\n",
       "      <th>odor</th>\n",
       "      <th>gill-attachment</th>\n",
       "      <th>gill-spacing</th>\n",
       "      <th>gill-size</th>\n",
       "      <th>gill-color</th>\n",
       "      <th>stalk-shape</th>\n",
       "      <th>...</th>\n",
       "      <th>stalk-color-above-ring</th>\n",
       "      <th>stalk-color-below-ring</th>\n",
       "      <th>veil-type</th>\n",
       "      <th>veil-color</th>\n",
       "      <th>ring-number</th>\n",
       "      <th>ring-type</th>\n",
       "      <th>spore-print-color</th>\n",
       "      <th>population</th>\n",
       "      <th>habitat</th>\n",
       "      <th>class</th>\n",
       "    </tr>\n",
       "  </thead>\n",
       "  <tbody>\n",
       "    <tr>\n",
       "      <th>count</th>\n",
       "      <td>8124</td>\n",
       "      <td>8124</td>\n",
       "      <td>8124</td>\n",
       "      <td>8124</td>\n",
       "      <td>8124</td>\n",
       "      <td>8124</td>\n",
       "      <td>8124</td>\n",
       "      <td>8124</td>\n",
       "      <td>8124</td>\n",
       "      <td>8124</td>\n",
       "      <td>...</td>\n",
       "      <td>8124</td>\n",
       "      <td>8124</td>\n",
       "      <td>8124</td>\n",
       "      <td>8124</td>\n",
       "      <td>8124</td>\n",
       "      <td>8124</td>\n",
       "      <td>8124</td>\n",
       "      <td>8124</td>\n",
       "      <td>8124</td>\n",
       "      <td>8124</td>\n",
       "    </tr>\n",
       "    <tr>\n",
       "      <th>unique</th>\n",
       "      <td>6</td>\n",
       "      <td>4</td>\n",
       "      <td>10</td>\n",
       "      <td>2</td>\n",
       "      <td>9</td>\n",
       "      <td>2</td>\n",
       "      <td>2</td>\n",
       "      <td>2</td>\n",
       "      <td>12</td>\n",
       "      <td>2</td>\n",
       "      <td>...</td>\n",
       "      <td>9</td>\n",
       "      <td>9</td>\n",
       "      <td>1</td>\n",
       "      <td>4</td>\n",
       "      <td>3</td>\n",
       "      <td>5</td>\n",
       "      <td>9</td>\n",
       "      <td>6</td>\n",
       "      <td>7</td>\n",
       "      <td>2</td>\n",
       "    </tr>\n",
       "    <tr>\n",
       "      <th>top</th>\n",
       "      <td>x</td>\n",
       "      <td>y</td>\n",
       "      <td>n</td>\n",
       "      <td>f</td>\n",
       "      <td>n</td>\n",
       "      <td>f</td>\n",
       "      <td>c</td>\n",
       "      <td>b</td>\n",
       "      <td>b</td>\n",
       "      <td>t</td>\n",
       "      <td>...</td>\n",
       "      <td>w</td>\n",
       "      <td>w</td>\n",
       "      <td>p</td>\n",
       "      <td>w</td>\n",
       "      <td>o</td>\n",
       "      <td>p</td>\n",
       "      <td>w</td>\n",
       "      <td>v</td>\n",
       "      <td>d</td>\n",
       "      <td>e</td>\n",
       "    </tr>\n",
       "    <tr>\n",
       "      <th>freq</th>\n",
       "      <td>3656</td>\n",
       "      <td>3244</td>\n",
       "      <td>2284</td>\n",
       "      <td>4748</td>\n",
       "      <td>3528</td>\n",
       "      <td>7914</td>\n",
       "      <td>6812</td>\n",
       "      <td>5612</td>\n",
       "      <td>1728</td>\n",
       "      <td>4608</td>\n",
       "      <td>...</td>\n",
       "      <td>4464</td>\n",
       "      <td>4384</td>\n",
       "      <td>8124</td>\n",
       "      <td>7924</td>\n",
       "      <td>7488</td>\n",
       "      <td>3968</td>\n",
       "      <td>2388</td>\n",
       "      <td>4040</td>\n",
       "      <td>3148</td>\n",
       "      <td>4208</td>\n",
       "    </tr>\n",
       "  </tbody>\n",
       "</table>\n",
       "<p>4 rows × 23 columns</p>\n",
       "</div>"
      ],
      "text/plain": [
       "       cap-shape cap-surface cap-color bruises%3F  odor gill-attachment  \\\n",
       "count       8124        8124      8124       8124  8124            8124   \n",
       "unique         6           4        10          2     9               2   \n",
       "top            x           y         n          f     n               f   \n",
       "freq        3656        3244      2284       4748  3528            7914   \n",
       "\n",
       "       gill-spacing gill-size gill-color stalk-shape  ...  \\\n",
       "count          8124      8124       8124        8124  ...   \n",
       "unique            2         2         12           2  ...   \n",
       "top               c         b          b           t  ...   \n",
       "freq           6812      5612       1728        4608  ...   \n",
       "\n",
       "       stalk-color-above-ring stalk-color-below-ring veil-type veil-color  \\\n",
       "count                    8124                   8124      8124       8124   \n",
       "unique                      9                      9         1          4   \n",
       "top                         w                      w         p          w   \n",
       "freq                     4464                   4384      8124       7924   \n",
       "\n",
       "       ring-number ring-type spore-print-color population habitat class  \n",
       "count         8124      8124              8124       8124    8124  8124  \n",
       "unique           3         5                 9          6       7     2  \n",
       "top              o         p                 w          v       d     e  \n",
       "freq          7488      3968              2388       4040    3148  4208  \n",
       "\n",
       "[4 rows x 23 columns]"
      ]
     },
     "execution_count": 16,
     "metadata": {},
     "output_type": "execute_result"
    }
   ],
   "source": [
    "mushroom_dataset.describe()"
   ]
  },
  {
   "cell_type": "markdown",
   "id": "c4198516",
   "metadata": {},
   "source": [
    "Проанализировав полученную таблицу, можно заметить, что в столбце \"veil-type\" (тип вуали) присутствует только одно уникальное значение, следовательно, стоит удалить этот столбец, поскольку он не слишком информативен для решения поствленной задачи классификации"
   ]
  },
  {
   "cell_type": "markdown",
   "id": "831f4de3",
   "metadata": {},
   "source": [
    "Корреляционную матрицу построим после того, как обработаем категориальные признаки"
   ]
  },
  {
   "cell_type": "markdown",
   "id": "3b1f8461",
   "metadata": {},
   "source": [
    "### 3. Обработка пропущенных значений"
   ]
  },
  {
   "cell_type": "markdown",
   "id": "95d234ab",
   "metadata": {},
   "source": [
    "Посмотрим, сколько пропущенных значений в каждом столбце"
   ]
  },
  {
   "cell_type": "code",
   "execution_count": 17,
   "id": "9af9a010",
   "metadata": {},
   "outputs": [
    {
     "data": {
      "text/plain": [
       "cap-shape                      0\n",
       "cap-surface                    0\n",
       "cap-color                      0\n",
       "bruises%3F                     0\n",
       "odor                           0\n",
       "gill-attachment                0\n",
       "gill-spacing                   0\n",
       "gill-size                      0\n",
       "gill-color                     0\n",
       "stalk-shape                    0\n",
       "stalk-root                  2480\n",
       "stalk-surface-above-ring       0\n",
       "stalk-surface-below-ring       0\n",
       "stalk-color-above-ring         0\n",
       "stalk-color-below-ring         0\n",
       "veil-type                      0\n",
       "veil-color                     0\n",
       "ring-number                    0\n",
       "ring-type                      0\n",
       "spore-print-color              0\n",
       "population                     0\n",
       "habitat                        0\n",
       "class                          0\n",
       "dtype: int64"
      ]
     },
     "execution_count": 17,
     "metadata": {},
     "output_type": "execute_result"
    }
   ],
   "source": [
    "mushroom_dataset.isnull().sum()"
   ]
  },
  {
   "cell_type": "markdown",
   "id": "fad529f8",
   "metadata": {},
   "source": [
    "Как мы можем заметить, значения пропущены только в одном из столбцов, поэтому мы можем просто удалить его, чтобы избавиться от лишнего шума в данных. Удалим также столбец \"veil-type\" (тип вуали), поскольку, как было выяснено ранее, в нем присутствует всего одно уникальное значение"
   ]
  },
  {
   "cell_type": "code",
   "execution_count": 18,
   "id": "f70175cf",
   "metadata": {},
   "outputs": [],
   "source": [
    "mushroom_dataset = mushroom_dataset.drop(columns=['stalk-root'], axis=1)\n",
    "mushroom_dataset = mushroom_dataset.drop(columns=['veil-type'], axis=1)"
   ]
  },
  {
   "cell_type": "code",
   "execution_count": 19,
   "id": "2d25d831",
   "metadata": {},
   "outputs": [
    {
     "data": {
      "text/plain": [
       "cap-shape                   0\n",
       "cap-surface                 0\n",
       "cap-color                   0\n",
       "bruises%3F                  0\n",
       "odor                        0\n",
       "gill-attachment             0\n",
       "gill-spacing                0\n",
       "gill-size                   0\n",
       "gill-color                  0\n",
       "stalk-shape                 0\n",
       "stalk-surface-above-ring    0\n",
       "stalk-surface-below-ring    0\n",
       "stalk-color-above-ring      0\n",
       "stalk-color-below-ring      0\n",
       "veil-color                  0\n",
       "ring-number                 0\n",
       "ring-type                   0\n",
       "spore-print-color           0\n",
       "population                  0\n",
       "habitat                     0\n",
       "class                       0\n",
       "dtype: int64"
      ]
     },
     "execution_count": 19,
     "metadata": {},
     "output_type": "execute_result"
    }
   ],
   "source": [
    "mushroom_dataset.isnull().sum()"
   ]
  },
  {
   "cell_type": "markdown",
   "id": "70e7cea5",
   "metadata": {},
   "source": [
    "Как мы можем заметить, пропущенных значений больше нет"
   ]
  },
  {
   "cell_type": "markdown",
   "id": "6f5ef1f2",
   "metadata": {},
   "source": [
    "### 4. Обработка категориальных признаков"
   ]
  },
  {
   "cell_type": "markdown",
   "id": "3948dbdf",
   "metadata": {},
   "source": [
    "В данном датасете все признаки категориальные. Мы можем преобразовать их с помощью LabelEncoder (обычная нумерация значений)"
   ]
  },
  {
   "cell_type": "code",
   "execution_count": 20,
   "id": "8a5b9dca",
   "metadata": {},
   "outputs": [
    {
     "data": {
      "text/html": [
       "<div>\n",
       "<style scoped>\n",
       "    .dataframe tbody tr th:only-of-type {\n",
       "        vertical-align: middle;\n",
       "    }\n",
       "\n",
       "    .dataframe tbody tr th {\n",
       "        vertical-align: top;\n",
       "    }\n",
       "\n",
       "    .dataframe thead th {\n",
       "        text-align: right;\n",
       "    }\n",
       "</style>\n",
       "<table border=\"1\" class=\"dataframe\">\n",
       "  <thead>\n",
       "    <tr style=\"text-align: right;\">\n",
       "      <th></th>\n",
       "      <th>cap-shape</th>\n",
       "      <th>cap-surface</th>\n",
       "      <th>cap-color</th>\n",
       "      <th>bruises%3F</th>\n",
       "      <th>odor</th>\n",
       "      <th>gill-attachment</th>\n",
       "      <th>gill-spacing</th>\n",
       "      <th>gill-size</th>\n",
       "      <th>gill-color</th>\n",
       "      <th>stalk-shape</th>\n",
       "      <th>...</th>\n",
       "      <th>stalk-surface-below-ring</th>\n",
       "      <th>stalk-color-above-ring</th>\n",
       "      <th>stalk-color-below-ring</th>\n",
       "      <th>veil-color</th>\n",
       "      <th>ring-number</th>\n",
       "      <th>ring-type</th>\n",
       "      <th>spore-print-color</th>\n",
       "      <th>population</th>\n",
       "      <th>habitat</th>\n",
       "      <th>class</th>\n",
       "    </tr>\n",
       "  </thead>\n",
       "  <tbody>\n",
       "    <tr>\n",
       "      <th>0</th>\n",
       "      <td>5</td>\n",
       "      <td>2</td>\n",
       "      <td>4</td>\n",
       "      <td>1</td>\n",
       "      <td>6</td>\n",
       "      <td>1</td>\n",
       "      <td>0</td>\n",
       "      <td>1</td>\n",
       "      <td>4</td>\n",
       "      <td>0</td>\n",
       "      <td>...</td>\n",
       "      <td>2</td>\n",
       "      <td>7</td>\n",
       "      <td>7</td>\n",
       "      <td>2</td>\n",
       "      <td>1</td>\n",
       "      <td>4</td>\n",
       "      <td>2</td>\n",
       "      <td>3</td>\n",
       "      <td>5</td>\n",
       "      <td>1</td>\n",
       "    </tr>\n",
       "    <tr>\n",
       "      <th>1</th>\n",
       "      <td>5</td>\n",
       "      <td>2</td>\n",
       "      <td>9</td>\n",
       "      <td>1</td>\n",
       "      <td>0</td>\n",
       "      <td>1</td>\n",
       "      <td>0</td>\n",
       "      <td>0</td>\n",
       "      <td>4</td>\n",
       "      <td>0</td>\n",
       "      <td>...</td>\n",
       "      <td>2</td>\n",
       "      <td>7</td>\n",
       "      <td>7</td>\n",
       "      <td>2</td>\n",
       "      <td>1</td>\n",
       "      <td>4</td>\n",
       "      <td>3</td>\n",
       "      <td>2</td>\n",
       "      <td>1</td>\n",
       "      <td>0</td>\n",
       "    </tr>\n",
       "    <tr>\n",
       "      <th>2</th>\n",
       "      <td>0</td>\n",
       "      <td>2</td>\n",
       "      <td>8</td>\n",
       "      <td>1</td>\n",
       "      <td>3</td>\n",
       "      <td>1</td>\n",
       "      <td>0</td>\n",
       "      <td>0</td>\n",
       "      <td>5</td>\n",
       "      <td>0</td>\n",
       "      <td>...</td>\n",
       "      <td>2</td>\n",
       "      <td>7</td>\n",
       "      <td>7</td>\n",
       "      <td>2</td>\n",
       "      <td>1</td>\n",
       "      <td>4</td>\n",
       "      <td>3</td>\n",
       "      <td>2</td>\n",
       "      <td>3</td>\n",
       "      <td>0</td>\n",
       "    </tr>\n",
       "    <tr>\n",
       "      <th>3</th>\n",
       "      <td>5</td>\n",
       "      <td>3</td>\n",
       "      <td>8</td>\n",
       "      <td>1</td>\n",
       "      <td>6</td>\n",
       "      <td>1</td>\n",
       "      <td>0</td>\n",
       "      <td>1</td>\n",
       "      <td>5</td>\n",
       "      <td>0</td>\n",
       "      <td>...</td>\n",
       "      <td>2</td>\n",
       "      <td>7</td>\n",
       "      <td>7</td>\n",
       "      <td>2</td>\n",
       "      <td>1</td>\n",
       "      <td>4</td>\n",
       "      <td>2</td>\n",
       "      <td>3</td>\n",
       "      <td>5</td>\n",
       "      <td>1</td>\n",
       "    </tr>\n",
       "    <tr>\n",
       "      <th>4</th>\n",
       "      <td>5</td>\n",
       "      <td>2</td>\n",
       "      <td>3</td>\n",
       "      <td>0</td>\n",
       "      <td>5</td>\n",
       "      <td>1</td>\n",
       "      <td>1</td>\n",
       "      <td>0</td>\n",
       "      <td>4</td>\n",
       "      <td>1</td>\n",
       "      <td>...</td>\n",
       "      <td>2</td>\n",
       "      <td>7</td>\n",
       "      <td>7</td>\n",
       "      <td>2</td>\n",
       "      <td>1</td>\n",
       "      <td>0</td>\n",
       "      <td>3</td>\n",
       "      <td>0</td>\n",
       "      <td>1</td>\n",
       "      <td>0</td>\n",
       "    </tr>\n",
       "  </tbody>\n",
       "</table>\n",
       "<p>5 rows × 21 columns</p>\n",
       "</div>"
      ],
      "text/plain": [
       "   cap-shape  cap-surface  cap-color  bruises%3F  odor  gill-attachment  \\\n",
       "0          5            2          4           1     6                1   \n",
       "1          5            2          9           1     0                1   \n",
       "2          0            2          8           1     3                1   \n",
       "3          5            3          8           1     6                1   \n",
       "4          5            2          3           0     5                1   \n",
       "\n",
       "   gill-spacing  gill-size  gill-color  stalk-shape  ...  \\\n",
       "0             0          1           4            0  ...   \n",
       "1             0          0           4            0  ...   \n",
       "2             0          0           5            0  ...   \n",
       "3             0          1           5            0  ...   \n",
       "4             1          0           4            1  ...   \n",
       "\n",
       "   stalk-surface-below-ring  stalk-color-above-ring  stalk-color-below-ring  \\\n",
       "0                         2                       7                       7   \n",
       "1                         2                       7                       7   \n",
       "2                         2                       7                       7   \n",
       "3                         2                       7                       7   \n",
       "4                         2                       7                       7   \n",
       "\n",
       "   veil-color  ring-number  ring-type  spore-print-color  population  habitat  \\\n",
       "0           2            1          4                  2           3        5   \n",
       "1           2            1          4                  3           2        1   \n",
       "2           2            1          4                  3           2        3   \n",
       "3           2            1          4                  2           3        5   \n",
       "4           2            1          0                  3           0        1   \n",
       "\n",
       "   class  \n",
       "0      1  \n",
       "1      0  \n",
       "2      0  \n",
       "3      1  \n",
       "4      0  \n",
       "\n",
       "[5 rows x 21 columns]"
      ]
     },
     "execution_count": 20,
     "metadata": {},
     "output_type": "execute_result"
    }
   ],
   "source": [
    "from sklearn.preprocessing import LabelEncoder\n",
    "label_encoder = LabelEncoder()\n",
    "mushroom_dataset_new = mushroom_dataset.copy()\n",
    "for col in mushroom_dataset_new.columns:\n",
    "    mushroom_dataset_new[col] = label_encoder.fit_transform(mushroom_dataset_new[col])\n",
    "mushroom_dataset_new.head()"
   ]
  },
  {
   "cell_type": "markdown",
   "id": "cf420b95",
   "metadata": {},
   "source": [
    "Теперь, поскольку все признаки стали числовыми, мы можем построить корреляционную матрицу"
   ]
  },
  {
   "cell_type": "code",
   "execution_count": 21,
   "id": "bdd1023c",
   "metadata": {},
   "outputs": [
    {
     "data": {
      "image/png": "[encoded data removed]",
      "text/plain": [
       "<Figure size 2160x1440 with 2 Axes>"
      ]
     },
     "metadata": {},
     "output_type": "display_data"
    }
   ],
   "source": [
    "corr_matrix = mushroom_dataset_new.corr()\n",
    "mask = np.zeros_like(corr_matrix)\n",
    "mask[np.triu_indices_from(mask)] = True\n",
    "with sns.axes_style(\"white\"):\n",
    "    f, ax = plt.subplots(figsize=(30,20))\n",
    "    sns.heatmap(corr_matrix, vmin=-1, vmax=1, cmap=\"YlGnBu\", annot=True, mask=mask, square=True)"
   ]
  },
  {
   "cell_type": "markdown",
   "id": "2f196774",
   "metadata": {},
   "source": [
    "Мы можем заметить, что в целом корреляция между признаками довольно слабая, однако есть признаки, между которыми относительно сильная корреляция. Самая сильная корреляция наблюдается между признаками \"veil-color\" (цвет вуали) и \"gill-attachment\" (форма ламеллы)"
   ]
  },
  {
   "cell_type": "markdown",
   "id": "aae9ea89",
   "metadata": {},
   "source": [
    "### 5. Нормализация"
   ]
  },
  {
   "cell_type": "markdown",
   "id": "ea306c9b",
   "metadata": {},
   "source": [
    "Поскольку все признаки изначально являются категориальными, в нашем случае нормализация не требуется"
   ]
  },
  {
   "cell_type": "markdown",
   "id": "47a156b4",
   "metadata": {},
   "source": [
    "### 6. Разбиение данных на обучающую и тестовую выборки"
   ]
  },
  {
   "cell_type": "markdown",
   "id": "a8d8e03d",
   "metadata": {},
   "source": [
    "Чтобы разбить данные на обучающие и тестовые, воспользуемся функцией из библиотеки sklearn. Пусть обучающая выборка составляет 80%, а тестовая - 20%"
   ]
  },
  {
   "cell_type": "code",
   "execution_count": 22,
   "id": "9a770ed3",
   "metadata": {},
   "outputs": [],
   "source": [
    "from sklearn.model_selection import train_test_split\n",
    "X = mushroom_dataset_new.drop('class', axis = 1)\n",
    "y = mushroom_dataset_new['class']\n",
    "X_train, X_test, y_train, y_test = train_test_split(X, y, test_size=0.2, random_state=42)"
   ]
  },
  {
   "cell_type": "markdown",
   "id": "ae19b159",
   "metadata": {},
   "source": [
    "### 7. Классификатор ближайших соседей; подбор оптимального значения количества ближайших соседей"
   ]
  },
  {
   "cell_type": "markdown",
   "id": "3e3aaf49",
   "metadata": {},
   "source": [
    "Воспользуемся классификатором ближайших соседей. Попробуем разное число k (количество соседей) и сравним полученные результаты"
   ]
  },
  {
   "cell_type": "code",
   "execution_count": 23,
   "id": "44efcd12",
   "metadata": {},
   "outputs": [],
   "source": [
    "from sklearn.neighbors import KNeighborsClassifier\n",
    "\n",
    "accuracy_list_train = []\n",
    "accuracy_list_test = []\n",
    "for i in range(1, 31):\n",
    "    KNN = KNeighborsClassifier(n_neighbors=i)\n",
    "    KNN.fit(X_train, y_train)\n",
    "    \n",
    "    accuracy_train = round(KNN.score(X_train, y_train)*100, 4)\n",
    "    accuracy_list_train.append(accuracy_train)\n",
    "    \n",
    "    accuracy_test = round(KNN.score(X_test, y_test)*100, 4)\n",
    "    accuracy_list_test.append(accuracy_test)"
   ]
  },
  {
   "cell_type": "markdown",
   "id": "1c3b1372",
   "metadata": {},
   "source": [
    "Построим график Accuracy на обучающей выборке"
   ]
  },
  {
   "cell_type": "code",
   "execution_count": 24,
   "id": "f532e281",
   "metadata": {},
   "outputs": [
    {
     "data": {
      "text/plain": [
       "Text(0, 0.5, 'Accuracy on train, %')"
      ]
     },
     "execution_count": 24,
     "metadata": {},
     "output_type": "execute_result"
    },
    {
     "data": {
      "image/png": "[encoded data removed]",
      "text/plain": [
       "<Figure size 864x432 with 1 Axes>"
      ]
     },
     "metadata": {
      "needs_background": "light"
     },
     "output_type": "display_data"
    }
   ],
   "source": [
    "k = np.arange(1, 31)\n",
    "plt.figure(figsize=(12, 6))\n",
    "plt.plot(k, accuracy_list_train, 'red')\n",
    "plt.xlabel('k')\n",
    "plt.xticks(np.arange(min(k), max(k)+1, 1.0))\n",
    "plt.grid(which='major')\n",
    "plt.ylabel('Accuracy on train, %')"
   ]
  },
  {
   "cell_type": "markdown",
   "id": "f5610e7b",
   "metadata": {},
   "source": [
    "Как мы можем заметить, лучший результат достигается при k = 1\n",
    "\n",
    "Теперь построим график Accuracy на тестовой выборке"
   ]
  },
  {
   "cell_type": "code",
   "execution_count": 25,
   "id": "c24eb907",
   "metadata": {},
   "outputs": [
    {
     "data": {
      "text/plain": [
       "Text(0, 0.5, 'Accuracy on test, %')"
      ]
     },
     "execution_count": 25,
     "metadata": {},
     "output_type": "execute_result"
    },
    {
     "data": {
      "image/png": "[encoded data removed]",
      "text/plain": [
       "<Figure size 864x432 with 1 Axes>"
      ]
     },
     "metadata": {
      "needs_background": "light"
     },
     "output_type": "display_data"
    }
   ],
   "source": [
    "k = np.arange(1, 31)\n",
    "plt.figure(figsize=(12, 6))\n",
    "plt.plot(k, accuracy_list_test, 'blue')\n",
    "plt.xlabel('k')\n",
    "plt.xticks(np.arange(min(k), max(k)+1, 1.0))\n",
    "plt.grid(which='major')\n",
    "plt.ylabel('Accuracy on test, %')"
   ]
  },
  {
   "cell_type": "markdown",
   "id": "83d2625d",
   "metadata": {},
   "source": [
    "Как мы можем заметить, лучше всего алгоритм работает при k = 1 и при k = 2"
   ]
  },
  {
   "cell_type": "markdown",
   "id": "fea39ca5",
   "metadata": {},
   "source": [
    "### 8. Вычислим ошибки на обучающей и тестовой выборках"
   ]
  },
  {
   "cell_type": "markdown",
   "id": "9cb4d803",
   "metadata": {},
   "source": [
    "Применим алгоритм ближайщих соседей при k = 1 и посмотрим, чему равно значение ошибки"
   ]
  },
  {
   "cell_type": "code",
   "execution_count": 26,
   "id": "56acd47f",
   "metadata": {},
   "outputs": [
    {
     "name": "stdout",
     "output_type": "stream",
     "text": [
      "Error on train =  0.0\n",
      "Error on test =  0.0006153846153845732\n",
      "Runtime =  0.9607250690460205\n"
     ]
    }
   ],
   "source": [
    "KNN_model = KNeighborsClassifier(n_neighbors = 1).fit(X_train, y_train)\n",
    "\n",
    "start_time = time.time()\n",
    "error_train = 1 - KNN_model.score(X_train, y_train)\n",
    "error_test = 1 - KNN_model.score(X_test, y_test)\n",
    "end_time = time.time()\n",
    "runtime = end_time - start_time\n",
    "\n",
    "print('Error on train = ', error_train)\n",
    "print('Error on test = ', error_test)\n",
    "print('Runtime = ', runtime)"
   ]
  },
  {
   "cell_type": "code",
   "execution_count": 97,
   "id": "47fa4c5d",
   "metadata": {},
   "outputs": [
    {
     "data": {
      "text/plain": [
       "<sklearn.metrics._plot.confusion_matrix.ConfusionMatrixDisplay at 0x21901362f40>"
      ]
     },
     "execution_count": 97,
     "metadata": {},
     "output_type": "execute_result"
    },
    {
     "data": {
      "image/png": "[encoded data removed]",
      "text/plain": [
       "<Figure size 432x288 with 2 Axes>"
      ]
     },
     "metadata": {
      "needs_background": "light"
     },
     "output_type": "display_data"
    }
   ],
   "source": [
    "plot_confusion_matrix(KNN_model, X_test, y_test)"
   ]
  },
  {
   "cell_type": "markdown",
   "id": "b96a4168",
   "metadata": {},
   "source": [
    "Как мы можем заметить, на обучающей выборке ошибки отсутствуют, а на тестовой их количество минимально"
   ]
  },
  {
   "cell_type": "markdown",
   "id": "a96e21bc",
   "metadata": {},
   "source": [
    "### 9. Другие классификаторы"
   ]
  },
  {
   "cell_type": "markdown",
   "id": "fc21bb69",
   "metadata": {},
   "source": [
    "#### 9.1. Классификация методом опорных векторов (SVC)"
   ]
  },
  {
   "cell_type": "code",
   "execution_count": 27,
   "id": "7760c13d",
   "metadata": {},
   "outputs": [
    {
     "name": "stdout",
     "output_type": "stream",
     "text": [
      "Error on train =  0.0\n",
      "Error on test =  0.0\n",
      "Runtime =  0.7322828769683838\n"
     ]
    }
   ],
   "source": [
    "from sklearn.svm import SVC\n",
    "SVC = SVC(gamma='auto')\n",
    "SVC.fit(X_train, y_train)\n",
    "\n",
    "start_time = time.time()\n",
    "error_train = np.mean(y_train != SVC.predict(X_train))\n",
    "error_test  = np.mean(y_test  != SVC.predict(X_test))\n",
    "end_time = time.time()\n",
    "runtime = end_time - start_time\n",
    "\n",
    "print('Error on train = ', error_train)\n",
    "print('Error on test = ', error_test)\n",
    "print('Runtime = ', runtime)"
   ]
  },
  {
   "cell_type": "code",
   "execution_count": 98,
   "id": "8084d061",
   "metadata": {},
   "outputs": [
    {
     "data": {
      "text/plain": [
       "<sklearn.metrics._plot.confusion_matrix.ConfusionMatrixDisplay at 0x2190138b6a0>"
      ]
     },
     "execution_count": 98,
     "metadata": {},
     "output_type": "execute_result"
    },
    {
     "data": {
      "image/png": "[encoded data removed]",
      "text/plain": [
       "<Figure size 432x288 with 2 Axes>"
      ]
     },
     "metadata": {
      "needs_background": "light"
     },
     "output_type": "display_data"
    }
   ],
   "source": [
    "plot_confusion_matrix(SVC, X_test, y_test)"
   ]
  },
  {
   "cell_type": "markdown",
   "id": "bb608e8f",
   "metadata": {},
   "source": [
    "#### 9.2. Random Forest"
   ]
  },
  {
   "cell_type": "code",
   "execution_count": 86,
   "id": "7783792c",
   "metadata": {},
   "outputs": [],
   "source": [
    "from sklearn import ensemble\n",
    "RF = ensemble.RandomForestClassifier(n_estimators = 100)"
   ]
  },
  {
   "cell_type": "code",
   "execution_count": 87,
   "id": "8dc80b0a",
   "metadata": {},
   "outputs": [
    {
     "name": "stdout",
     "output_type": "stream",
     "text": [
      "Wall time: 222 ms\n"
     ]
    },
    {
     "data": {
      "text/plain": [
       "RandomForestClassifier()"
      ]
     },
     "execution_count": 87,
     "metadata": {},
     "output_type": "execute_result"
    }
   ],
   "source": [
    "%%time\n",
    "RF.fit(X_train, y_train)"
   ]
  },
  {
   "cell_type": "code",
   "execution_count": 88,
   "id": "0e57bd00",
   "metadata": {},
   "outputs": [
    {
     "name": "stdout",
     "output_type": "stream",
     "text": [
      "Error on train =  0.0\n",
      "Error on test =  0.0\n",
      "Runtime =  0.061667442321777344\n"
     ]
    }
   ],
   "source": [
    "start_time = time.time()\n",
    "error_train = np.mean(y_train != RF.predict(X_train))\n",
    "error_test  = np.mean(y_test  != RF.predict(X_test))\n",
    "end_time = time.time()\n",
    "runtime = end_time - start_time\n",
    "\n",
    "print('Error on train = ', error_train)\n",
    "print('Error on test = ', error_test)\n",
    "print('Runtime = ', runtime)"
   ]
  },
  {
   "cell_type": "code",
   "execution_count": 100,
   "id": "c3de1b25",
   "metadata": {},
   "outputs": [
    {
     "data": {
      "text/plain": [
       "<sklearn.metrics._plot.confusion_matrix.ConfusionMatrixDisplay at 0x2196b51c250>"
      ]
     },
     "execution_count": 100,
     "metadata": {},
     "output_type": "execute_result"
    },
    {
     "data": {
      "image/png": "[encoded data removed]",
      "text/plain": [
       "<Figure size 432x288 with 2 Axes>"
      ]
     },
     "metadata": {
      "needs_background": "light"
     },
     "output_type": "display_data"
    }
   ],
   "source": [
    "plot_confusion_matrix(RF, X_test, y_test)"
   ]
  },
  {
   "cell_type": "markdown",
   "id": "446e0e10",
   "metadata": {},
   "source": [
    "#### 9.3. Extremely Randomized Trees"
   ]
  },
  {
   "cell_type": "code",
   "execution_count": 89,
   "id": "ac7dc252",
   "metadata": {},
   "outputs": [
    {
     "name": "stdout",
     "output_type": "stream",
     "text": [
      "Error on train =  0.0\n",
      "Error on test =  0.0\n",
      "Runtime =  0.061399221420288086\n"
     ]
    }
   ],
   "source": [
    "from sklearn import ensemble\n",
    "ERT = ensemble.ExtraTreesClassifier(n_estimators = 100)\n",
    "ERT.fit(X_train, y_train)\n",
    "\n",
    "start_time = time.time()\n",
    "error_train = np.mean(y_train != ERT.predict(X_train))\n",
    "error_test  = np.mean(y_test  != ERT.predict(X_test))\n",
    "end_time = time.time()\n",
    "runtime = end_time - start_time\n",
    "\n",
    "print('Error on train = ', error_train)\n",
    "print('Error on test = ', error_test)\n",
    "print('Runtime = ', runtime)"
   ]
  },
  {
   "cell_type": "code",
   "execution_count": 101,
   "id": "89e2ef9b",
   "metadata": {},
   "outputs": [
    {
     "data": {
      "text/plain": [
       "<sklearn.metrics._plot.confusion_matrix.ConfusionMatrixDisplay at 0x219012f5ca0>"
      ]
     },
     "execution_count": 101,
     "metadata": {},
     "output_type": "execute_result"
    },
    {
     "data": {
      "image/png": "[encoded data removed]",
      "text/plain": [
       "<Figure size 432x288 with 2 Axes>"
      ]
     },
     "metadata": {
      "needs_background": "light"
     },
     "output_type": "display_data"
    }
   ],
   "source": [
    "plot_confusion_matrix(ERT, X_test, y_test)"
   ]
  },
  {
   "cell_type": "markdown",
   "id": "48c66349",
   "metadata": {},
   "source": [
    "#### 9.4. AdaBoost"
   ]
  },
  {
   "cell_type": "code",
   "execution_count": 90,
   "id": "d8381ca8",
   "metadata": {},
   "outputs": [
    {
     "name": "stdout",
     "output_type": "stream",
     "text": [
      "Error on train =  0.0\n",
      "Error on test =  0.0\n",
      "Runtime =  0.09247946739196777\n"
     ]
    }
   ],
   "source": [
    "from sklearn import ensemble\n",
    "ADA = ensemble.AdaBoostClassifier(n_estimators = 100)\n",
    "ADA.fit(X_train, y_train)\n",
    "\n",
    "start_time = time.time()\n",
    "error_train = np.mean(y_train != ADA.predict(X_train))\n",
    "error_test  = np.mean(y_test  != ADA.predict(X_test))\n",
    "end_time = time.time()\n",
    "runtime = end_time - start_time\n",
    "\n",
    "print('Error on train = ', error_train)\n",
    "print('Error on test = ', error_test)\n",
    "print('Runtime = ', runtime)"
   ]
  },
  {
   "cell_type": "code",
   "execution_count": 102,
   "id": "131ea320",
   "metadata": {},
   "outputs": [
    {
     "data": {
      "text/plain": [
       "<sklearn.metrics._plot.confusion_matrix.ConfusionMatrixDisplay at 0x2196b4c5970>"
      ]
     },
     "execution_count": 102,
     "metadata": {},
     "output_type": "execute_result"
    },
    {
     "data": {
      "image/png": "[encoded data removed]",
      "text/plain": [
       "<Figure size 432x288 with 2 Axes>"
      ]
     },
     "metadata": {
      "needs_background": "light"
     },
     "output_type": "display_data"
    }
   ],
   "source": [
    "plot_confusion_matrix(ADA, X_test, y_test)"
   ]
  },
  {
   "cell_type": "markdown",
   "id": "f1f6b2a1",
   "metadata": {},
   "source": [
    "#### 9.5. GBT"
   ]
  },
  {
   "cell_type": "code",
   "execution_count": 91,
   "id": "240a4dcc",
   "metadata": {},
   "outputs": [
    {
     "name": "stdout",
     "output_type": "stream",
     "text": [
      "Error on train =  0.0\n",
      "Error on test =  0.0\n",
      "Runtime =  0.010260343551635742\n"
     ]
    }
   ],
   "source": [
    "from sklearn import ensemble\n",
    "GBT = ensemble.GradientBoostingClassifier(n_estimators = 100)\n",
    "GBT.fit(X_train, y_train)\n",
    "\n",
    "start_time = time.time()\n",
    "error_train = np.mean(y_train != GBT.predict(X_train))\n",
    "error_test  = np.mean(y_test  != GBT.predict(X_test))\n",
    "end_time = time.time()\n",
    "runtime = end_time - start_time\n",
    "\n",
    "print('Error on train = ', error_train)\n",
    "print('Error on test = ', error_test)\n",
    "print('Runtime = ', runtime)"
   ]
  },
  {
   "cell_type": "code",
   "execution_count": 103,
   "id": "362c521b",
   "metadata": {},
   "outputs": [
    {
     "data": {
      "text/plain": [
       "<sklearn.metrics._plot.confusion_matrix.ConfusionMatrixDisplay at 0x219029bbee0>"
      ]
     },
     "execution_count": 103,
     "metadata": {},
     "output_type": "execute_result"
    },
    {
     "data": {
      "image/png": "[encoded data removed]",
      "text/plain": [
       "<Figure size 432x288 with 2 Axes>"
      ]
     },
     "metadata": {
      "needs_background": "light"
     },
     "output_type": "display_data"
    }
   ],
   "source": [
    "plot_confusion_matrix(GBT, X_test, y_test)"
   ]
  },
  {
   "cell_type": "markdown",
   "id": "518b29a7",
   "metadata": {},
   "source": [
    "Как мы можем заметить, все дополнительные алгоритмы работают одинаково хорошо, однако по времени работы выигрывает алгоритм Gradient Boosting Classifier."
   ]
  },
  {
   "cell_type": "markdown",
   "id": "a445c875",
   "metadata": {},
   "source": [
    "### 10. Общие выводы"
   ]
  },
  {
   "cell_type": "markdown",
   "id": "afc131d5",
   "metadata": {},
   "source": [
    "В рамках данного домашнего задания была рассмотрена задача классификации грибов на основании их физических характеристик на съедобные и несъедобные. Поскольку все признаки категориальные, был применен LabelEncoding для преобразования их к числовым.  Поскольку сильного разброса в значениях не было, не нужно было применять нормализацию. Пропущенные значения присутствовали только в одном из столбцов, который не был особо информативным, поэтому он был удален. \n",
    "\n",
    "При обучении алгоритмом k-ближайших соседей лучший результат достигается при k = 1, на обучающей выборке ошибка равна 0, а на тестовой ошибка равна 0.0006153846153845732, что является очень хорошим результатом. Сравнивая с другими алгоритмами, можно отметить, что они показывают результаты лучше, чем KNN. Быстрее всего работает алгоритм GBT.\n",
    "\n",
    "Таким образом, исходя из сказанного выше, можно сделать вывод, что предобработка данных была выполнена успешна, что позволило успешно решить задачу классификации."
   ]
  }
 ],
 "metadata": {
  "kernelspec": {
   "display_name": "Python 3",
   "language": "python",
   "name": "python3"
  },
  "language_info": {
   "codemirror_mode": {
    "name": "ipython",
    "version": 3
   },
   "file_extension": ".py",
   "mimetype": "text/x-python",
   "name": "python",
   "nbconvert_exporter": "python",
   "pygments_lexer": "ipython3",
   "version": "3.8.8"
  }
 },
 "nbformat": 4,
 "nbformat_minor": 5
}
